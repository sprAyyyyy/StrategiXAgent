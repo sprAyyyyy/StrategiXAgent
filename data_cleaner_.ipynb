{
  "nbformat": 4,
  "nbformat_minor": 0,
  "metadata": {
    "colab": {
      "provenance": []
    },
    "kernelspec": {
      "name": "python3",
      "display_name": "Python 3"
    },
    "language_info": {
      "name": "python"
    }
  },
  "cells": [
    {
      "cell_type": "code",
      "source": [
        "import pandas as pd\n",
        "# df = pd.read_csv(\"clinical_trials_Glioblastoma_filtered.csv\")\n",
        "df = pd.read_csv(\"clinical_trials_Glioblastoma_filtered_PI and Enrollment.csv\")"
      ],
      "metadata": {
        "id": "bZLzrRa7aYzI"
      },
      "execution_count": null,
      "outputs": []
    },
    {
      "cell_type": "code",
      "source": [
        "# drop empty columns\n",
        "df.drop(columns=[\"Countries\"], inplace=True)\n",
        "df.drop(columns=[\"Locations\"], inplace=True)"
      ],
      "metadata": {
        "id": "ZUdTiqgrahuv"
      },
      "execution_count": null,
      "outputs": []
    },
    {
      "cell_type": "code",
      "source": [
        "df.columns.tolist()"
      ],
      "metadata": {
        "colab": {
          "base_uri": "https://localhost:8080/"
        },
        "id": "l7QFXh6dIChE",
        "outputId": "59c348be-4f73-4e2e-d0b5-bce5ca67aef0"
      },
      "execution_count": null,
      "outputs": [
        {
          "output_type": "execute_result",
          "data": {
            "text/plain": [
              "['NCT ID',\n",
              " 'Title',\n",
              " 'Status',\n",
              " 'Phases',\n",
              " 'Study Type',\n",
              " 'Enrollment Count',\n",
              " 'Enrollment Type',\n",
              " 'Principal Investigators',\n",
              " 'Start Date',\n",
              " 'Completion Date',\n",
              " 'Primary Completion Date',\n",
              " 'Sponsor',\n",
              " 'Collaborators',\n",
              " 'Conditions',\n",
              " 'Interventions',\n",
              " 'Minimum Age',\n",
              " 'Maximum Age',\n",
              " 'Gender',\n",
              " 'Brief Summary',\n",
              " 'Detailed Description',\n",
              " 'Study URL',\n",
              " 'Tags']"
            ]
          },
          "metadata": {},
          "execution_count": 36
        }
      ]
    },
    {
      "cell_type": "code",
      "source": [
        "# adult 和 child\n",
        "\n",
        "df[\"Minimum Age\"] = df[\"Minimum Age\"].fillna(\"\").astype(str).str.lower()\n",
        "df[\"Maximum Age\"] = df[\"Maximum Age\"].fillna(\"\").astype(str).str.lower()\n",
        "\n",
        "# 年龄组分类逻辑\n",
        "def classify_age_group(min_age, max_age):\n",
        "    if \"month\" in min_age:\n",
        "        return \"Children\"\n",
        "    if \"year\" in min_age:\n",
        "        try:\n",
        "            age_val = int(min_age.split()[0])\n",
        "            if age_val < 18:\n",
        "                if \"year\" in max_age:\n",
        "                    max_val = int(max_age.split()[0])\n",
        "                    if max_val >= 18:\n",
        "                        return \"Mixed\"\n",
        "                return \"Children\"\n",
        "        except:\n",
        "            return \"Adult\"\n",
        "    return \"Adult\"\n",
        "\n",
        "df[\"Age Group\"] = df.apply(lambda row: classify_age_group(row[\"Minimum Age\"], row[\"Maximum Age\"]), axis=1)\n",
        "\n",
        "df.columns.tolist()\n",
        "\n",
        "#只选择adult\n",
        "#df_adult = df[df[\"Age Group\"] == \"Adult\"]\n",
        "#len(df_adult)"
      ],
      "metadata": {
        "colab": {
          "base_uri": "https://localhost:8080/"
        },
        "id": "Ma3DAevbbfhB",
        "outputId": "1e4f3251-2c9f-4ee3-dfef-c5d973ee0f95"
      },
      "execution_count": null,
      "outputs": [
        {
          "output_type": "execute_result",
          "data": {
            "text/plain": [
              "['NCT ID',\n",
              " 'Title',\n",
              " 'Status',\n",
              " 'Phases',\n",
              " 'Study Type',\n",
              " 'Enrollment Count',\n",
              " 'Enrollment Type',\n",
              " 'Principal Investigators',\n",
              " 'Start Date',\n",
              " 'Completion Date',\n",
              " 'Primary Completion Date',\n",
              " 'Sponsor',\n",
              " 'Collaborators',\n",
              " 'Conditions',\n",
              " 'Interventions',\n",
              " 'Minimum Age',\n",
              " 'Maximum Age',\n",
              " 'Gender',\n",
              " 'Brief Summary',\n",
              " 'Detailed Description',\n",
              " 'Study URL',\n",
              " 'Tags',\n",
              " 'Age Group']"
            ]
          },
          "metadata": {},
          "execution_count": 37
        }
      ]
    },
    {
      "cell_type": "code",
      "source": [
        "# Primary 和 Metastatic\n",
        "\n",
        "df[\"Combined Text\"] = (\n",
        "    df[\"Conditions\"].fillna(\"\") + \" \" +\n",
        "    df[\"Brief Summary\"].fillna(\"\") + \" \" +\n",
        "    df[\"Detailed Description\"].fillna(\"\")\n",
        ").str.lower()\n",
        "\n",
        "def classify_tumor_type(text):\n",
        "    if any(k in text for k in [\"metastatic\", \"metastasis\", \"brain metastases\", \"secondary glioblastoma\"]):\n",
        "        return \"Metastatic\"\n",
        "    if any(k in text for k in [\"primary glioblastoma\", \"newly diagnosed\", \"de novo\"]):\n",
        "        return \"Primary\"\n",
        "    return \"Unclear\"\n",
        "\n",
        "df[\"Tumor Type\"] = df[\"Combined Text\"].apply(classify_tumor_type)\n",
        "df.drop(columns=[\"Combined Text\"], inplace=True)\n",
        "df.columns.tolist()\n",
        "\n",
        "# 只选择primary的\n",
        "# df_adult_primary = df_adult[df_adult[\"Tumor Type\"] == \"Primary\"]\n"
      ],
      "metadata": {
        "colab": {
          "base_uri": "https://localhost:8080/"
        },
        "id": "ilFqX2fYJsAD",
        "outputId": "95497d74-3298-419f-aea0-18c897500e4f"
      },
      "execution_count": null,
      "outputs": [
        {
          "output_type": "execute_result",
          "data": {
            "text/plain": [
              "['NCT ID',\n",
              " 'Title',\n",
              " 'Status',\n",
              " 'Phases',\n",
              " 'Study Type',\n",
              " 'Enrollment Count',\n",
              " 'Enrollment Type',\n",
              " 'Principal Investigators',\n",
              " 'Start Date',\n",
              " 'Completion Date',\n",
              " 'Primary Completion Date',\n",
              " 'Sponsor',\n",
              " 'Collaborators',\n",
              " 'Conditions',\n",
              " 'Interventions',\n",
              " 'Minimum Age',\n",
              " 'Maximum Age',\n",
              " 'Gender',\n",
              " 'Brief Summary',\n",
              " 'Detailed Description',\n",
              " 'Study URL',\n",
              " 'Tags',\n",
              " 'Age Group',\n",
              " 'Tumor Type']"
            ]
          },
          "metadata": {},
          "execution_count": 38
        }
      ]
    },
    {
      "cell_type": "code",
      "source": [
        "df[\"Surgery Status Text\"] = (\n",
        "    df[\"Brief Summary\"].fillna(\"\") + \" \" +\n",
        "    df[\"Detailed Description\"].fillna(\"\") + \" \" +\n",
        "    df[\"Interventions\"].fillna(\"\")\n",
        ").str.lower()\n",
        "\n",
        "def classify_surgery_type(text):\n",
        "    if any(k in text for k in [\"postoperative\", \"post-surgery\", \"after surgery\", \"post resection\", \"resected\", \"adjuvant\"]):\n",
        "        return \"Post-Surgery\"\n",
        "    elif any(k in text for k in [\"surgery\", \"surgical resection\", \"craniotomy\", \"tumor resection\"]):\n",
        "        return \"Surgery\"\n",
        "    return \"Unclear\"\n",
        "\n",
        "df[\"Surgery Category\"] = df[\"Surgery Status Text\"].apply(classify_surgery_type)\n",
        "df.drop(columns=[\"Surgery Status Text\"], inplace=True)\n",
        "df.columns.tolist()\n",
        "\n",
        "# 只选择 post surgery\n",
        "# df_adult_primary_postsur = df_adult_primary[df_adult_primary[\"Surgery Category\"] == \"Post-Surgery\"]"
      ],
      "metadata": {
        "colab": {
          "base_uri": "https://localhost:8080/"
        },
        "id": "K8WUhM_iK_r8",
        "outputId": "4b6072c2-8326-48d7-fe77-5efadcaaa28d"
      },
      "execution_count": null,
      "outputs": [
        {
          "output_type": "execute_result",
          "data": {
            "text/plain": [
              "['NCT ID',\n",
              " 'Title',\n",
              " 'Status',\n",
              " 'Phases',\n",
              " 'Study Type',\n",
              " 'Enrollment Count',\n",
              " 'Enrollment Type',\n",
              " 'Principal Investigators',\n",
              " 'Start Date',\n",
              " 'Completion Date',\n",
              " 'Primary Completion Date',\n",
              " 'Sponsor',\n",
              " 'Collaborators',\n",
              " 'Conditions',\n",
              " 'Interventions',\n",
              " 'Minimum Age',\n",
              " 'Maximum Age',\n",
              " 'Gender',\n",
              " 'Brief Summary',\n",
              " 'Detailed Description',\n",
              " 'Study URL',\n",
              " 'Tags',\n",
              " 'Age Group',\n",
              " 'Tumor Type',\n",
              " 'Surgery Category']"
            ]
          },
          "metadata": {},
          "execution_count": 39
        }
      ]
    },
    {
      "cell_type": "code",
      "source": [
        "df.to_csv(\"clinic_trials_Glioblastoma_AGE_TUMOR_SURGERY_TYPE.csv\", index=False)"
      ],
      "metadata": {
        "id": "uwQUYZdRLKgB"
      },
      "execution_count": null,
      "outputs": []
    },
    {
      "cell_type": "code",
      "source": [
        "# 只选择immunotherapy\n",
        "# df_adult_primary_postsur_immuno = df[(df[\"Tags\"].fillna(\"\").str.lower().str.contains(\"immunotherapy\"))]\n",
        "# 保存结果\n",
        "# df_adult_primary_postsur_immuno.to_csv(\"glioma_trials_glioblastoma_adult_primary_postsurgert_immunotherapy.csv\", index=False)"
      ],
      "metadata": {
        "id": "oRa4K2NU9NQN"
      },
      "execution_count": null,
      "outputs": []
    }
  ]
}